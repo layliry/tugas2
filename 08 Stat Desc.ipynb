{
 "cells": [
  {
   "cell_type": "markdown",
   "metadata": {},
   "source": [
    "## DESCRIPTIVE STATISTICS"
   ]
  },
  {
   "cell_type": "code",
   "execution_count": 97,
   "metadata": {},
   "outputs": [],
   "source": [
    "import math\n",
    "import statistics\n",
    "import scipy.stats\n",
    "import numpy as np\n",
    "import pandas as pd\n",
    "import matplotlib.pyplot as plt\n",
    "%matplotlib inline"
   ]
  },
  {
   "cell_type": "code",
   "execution_count": 98,
   "metadata": {},
   "outputs": [
    {
     "data": {
      "text/plain": [
       "0.768"
      ]
     },
     "execution_count": 98,
     "metadata": {},
     "output_type": "execute_result"
    }
   ],
   "source": [
    "a = 0.3*2.56\n",
    "a"
   ]
  },
  {
   "cell_type": "code",
   "execution_count": 99,
   "metadata": {},
   "outputs": [
    {
     "name": "stdout",
     "output_type": "stream",
     "text": [
      "x = [2, 3.1, 8, 2.8, 0, 2, 5.6, 2.8, 6, 9.1, 2.8, 2]\n",
      "x_nan = [2, 3.1, 8, 2.8, 0, 2, 5.6, 2.8, nan, 6, 9.1, 2.8, 2]\n"
     ]
    }
   ],
   "source": [
    "# misalkan data list\n",
    "\n",
    "x = [2, 3.1, 8, 2.8, 0, 2, 5.6, 2.8, 6, 9.1, 2.8, 2]\n",
    "x_nan =[2, 3.1, 8, 2.8, 0, 2, 5.6, 2.8, math.nan, 6, 9.1, 2.8, 2]\n",
    "\n",
    "print(\"x =\",x)\n",
    "print(\"x_nan =\",x_nan)"
   ]
  },
  {
   "cell_type": "code",
   "execution_count": 100,
   "metadata": {},
   "outputs": [
    {
     "name": "stdout",
     "output_type": "stream",
     "text": [
      "x = [2, 3.1, 8, 2.8, 0, 2, 5.6, 2.8, 6, 9.1, 2.8, 2]\n",
      "x_nan = [2, 3.1, 8, 2.8, 0, 2, 5.6, 2.8, nan, 6, 9.1, 2.8, 2]\n",
      "\n",
      "y = [2.  3.1 8.  2.8 0.  2.  5.6 2.8 6.  9.1 2.8 2. ]\n",
      "y_nan = [2.  3.1 8.  2.8 0.  2.  5.6 2.8 nan 6.  9.1 2.8 2. ]\n",
      "\n",
      "z\n",
      "0     2.0\n",
      "1     3.1\n",
      "2     8.0\n",
      "3     2.8\n",
      "4     0.0\n",
      "5     2.0\n",
      "6     5.6\n",
      "7     2.8\n",
      "8     6.0\n",
      "9     9.1\n",
      "10    2.8\n",
      "11    2.0\n",
      "dtype: float64\n",
      "z_nan\n",
      "0     2.0\n",
      "1     3.1\n",
      "2     8.0\n",
      "3     2.8\n",
      "4     0.0\n",
      "5     2.0\n",
      "6     5.6\n",
      "7     2.8\n",
      "8     NaN\n",
      "9     6.0\n",
      "10    9.1\n",
      "11    2.8\n",
      "12    2.0\n",
      "dtype: float64\n"
     ]
    }
   ],
   "source": [
    "print(\"x =\",x)\n",
    "print(\"x_nan =\",x_nan)\n",
    "print()\n",
    "\n",
    "y = np.array(x)\n",
    "y_nan = np.array(x_nan)\n",
    "\n",
    "print(\"y =\",y)\n",
    "print(\"y_nan =\",y_nan)\n",
    "print()\n",
    "\n",
    "z = pd.Series(x)\n",
    "z_nan = pd.Series(x_nan)\n",
    "\n",
    "print(\"z\")\n",
    "print(z)\n",
    "print(\"z_nan\")\n",
    "print(z_nan)"
   ]
  },
  {
   "cell_type": "markdown",
   "metadata": {},
   "source": [
    "1. Rata-rata (Mean)"
   ]
  },
  {
   "cell_type": "code",
   "execution_count": 101,
   "metadata": {},
   "outputs": [
    {
     "name": "stdout",
     "output_type": "stream",
     "text": [
      "3.85\n",
      "nan\n"
     ]
    }
   ],
   "source": [
    "# Dengan Statistics : untuk list\n",
    "\n",
    "statistics.mean(x)\n",
    "print(statistics.mean(x))\n",
    "\n",
    "statistics.mean(x_nan)\n",
    "print(statistics.mean(x_nan))\n"
   ]
  },
  {
   "cell_type": "code",
   "execution_count": 102,
   "metadata": {},
   "outputs": [
    {
     "name": "stdout",
     "output_type": "stream",
     "text": [
      "3.8499999999999996\n",
      "nan\n",
      "3.8499999999999996\n"
     ]
    }
   ],
   "source": [
    "# Dengan Numpy\n",
    "\n",
    "y.mean()\n",
    "print(y.mean())\n",
    "\n",
    "y_nan.mean()\n",
    "print(y_nan.mean())\n",
    "\n",
    "np.nanmean(y_nan)\n",
    "print(np.nanmean(y_nan))"
   ]
  },
  {
   "cell_type": "code",
   "execution_count": 103,
   "metadata": {},
   "outputs": [
    {
     "name": "stdout",
     "output_type": "stream",
     "text": [
      "3.8499999999999996\n",
      "3.8499999999999996\n"
     ]
    }
   ],
   "source": [
    "# Dengan Pandas\n",
    "\n",
    "z.mean()\n",
    "print(z.mean())\n",
    "\n",
    "z_nan.mean()\n",
    "print(z_nan.mean())\n"
   ]
  },
  {
   "cell_type": "markdown",
   "metadata": {},
   "source": [
    "2. Median"
   ]
  },
  {
   "cell_type": "code",
   "execution_count": 104,
   "metadata": {},
   "outputs": [
    {
     "name": "stdout",
     "output_type": "stream",
     "text": [
      "2.8\n",
      "2.8\n"
     ]
    }
   ],
   "source": [
    "# Dengan Statistics : untuk list\n",
    "\n",
    "statistics.median(x)\n",
    "print(statistics.median(x))\n",
    "\n",
    "statistics.median(x_nan)\n",
    "print(statistics.median(x_nan))"
   ]
  },
  {
   "cell_type": "code",
   "execution_count": 105,
   "metadata": {},
   "outputs": [
    {
     "name": "stdout",
     "output_type": "stream",
     "text": [
      "2.8\n",
      "nan\n",
      "2.8\n"
     ]
    }
   ],
   "source": [
    "# Dengan Numpy\n",
    "\n",
    "np.median(y)\n",
    "print(np.median(y))\n",
    "\n",
    "np.median(y_nan)\n",
    "print(np.median(y_nan))\n",
    "\n",
    "np.nanmedian(y_nan)\n",
    "print(np.nanmedian(y_nan))"
   ]
  },
  {
   "cell_type": "code",
   "execution_count": 106,
   "metadata": {},
   "outputs": [
    {
     "name": "stdout",
     "output_type": "stream",
     "text": [
      "2.8\n",
      "2.8\n"
     ]
    }
   ],
   "source": [
    "# Dengan Pandas\n",
    "\n",
    "z.median()\n",
    "print(z.median())\n",
    "\n",
    "z_nan.median()\n",
    "print(z_nan.median())"
   ]
  },
  {
   "cell_type": "markdown",
   "metadata": {},
   "source": [
    "3. Modus"
   ]
  },
  {
   "cell_type": "code",
   "execution_count": 107,
   "metadata": {},
   "outputs": [
    {
     "name": "stdout",
     "output_type": "stream",
     "text": [
      "2\n",
      "2\n"
     ]
    }
   ],
   "source": [
    "# Dengan Statistics : untuk list\n",
    "\n",
    "statistics.mode(x)\n",
    "print(statistics.mode(x))\n",
    "\n",
    "statistics.mode(x_nan)\n",
    "print(statistics.mode(x_nan))"
   ]
  },
  {
   "cell_type": "code",
   "execution_count": 108,
   "metadata": {},
   "outputs": [
    {
     "name": "stdout",
     "output_type": "stream",
     "text": [
      "[2.] [3]\n",
      "\n",
      "[2.] [3]\n"
     ]
    }
   ],
   "source": [
    "# Dengan Scipy Stat : untuk list\n",
    "\n",
    "scipy.stats.mode(x)\n",
    "mode, count = scipy.stats.mode(x)\n",
    "print(mode, count)\n",
    "\n",
    "print()\n",
    "\n",
    "scipy.stats.mode(x_nan)\n",
    "mode, count = scipy.stats.mode(x_nan)\n",
    "print(mode, count)"
   ]
  },
  {
   "cell_type": "code",
   "execution_count": 109,
   "metadata": {},
   "outputs": [
    {
     "name": "stdout",
     "output_type": "stream",
     "text": [
      "0    2.0\n",
      "1    2.8\n",
      "dtype: float64\n",
      "\n",
      "0    2.0\n",
      "1    2.8\n",
      "dtype: float64\n"
     ]
    }
   ],
   "source": [
    "# Dengan Pandas\n",
    "\n",
    "z.mode()\n",
    "print(z.mode())\n",
    "\n",
    "print()\n",
    "\n",
    "z_nan.mode()\n",
    "print(z_nan.mode())"
   ]
  },
  {
   "cell_type": "markdown",
   "metadata": {},
   "source": [
    "## 4. `Weighted, Harmonics, Geometric` Mean"
   ]
  },
  {
   "cell_type": "code",
   "execution_count": 110,
   "metadata": {},
   "outputs": [
    {
     "name": "stdout",
     "output_type": "stream",
     "text": [
      "x = [2, 3.1, 8, 2.8, 0, 2, 5.6, 2.8, 6, 9.1, 2.8, 2]\n",
      "x_nan = [2, 3.1, 8, 2.8, 0, 2, 5.6, 2.8, nan, 6, 9.1, 2.8, 2]\n",
      "\n",
      "y = [2.  3.1 8.  2.8 0.  2.  5.6 2.8 6.  9.1 2.8 2. ]\n",
      "y_nan = [2.  3.1 8.  2.8 0.  2.  5.6 2.8 nan 6.  9.1 2.8 2. ]\n",
      "\n",
      "z\n",
      "0     2.0\n",
      "1     3.1\n",
      "2     8.0\n",
      "3     2.8\n",
      "4     0.0\n",
      "5     2.0\n",
      "6     5.6\n",
      "7     2.8\n",
      "8     6.0\n",
      "9     9.1\n",
      "10    2.8\n",
      "11    2.0\n",
      "dtype: float64\n",
      "z_nan\n",
      "0     2.0\n",
      "1     3.1\n",
      "2     8.0\n",
      "3     2.8\n",
      "4     0.0\n",
      "5     2.0\n",
      "6     5.6\n",
      "7     2.8\n",
      "8     NaN\n",
      "9     6.0\n",
      "10    9.1\n",
      "11    2.8\n",
      "12    2.0\n",
      "dtype: float64\n"
     ]
    }
   ],
   "source": [
    "print(\"x =\",x)\n",
    "print(\"x_nan =\",x_nan)\n",
    "print()\n",
    "\n",
    "y = np.array(x)\n",
    "y_nan = np.array(x_nan)\n",
    "\n",
    "print(\"y =\",y)\n",
    "print(\"y_nan =\",y_nan)\n",
    "print()\n",
    "\n",
    "z = pd.Series(x)\n",
    "z_nan = pd.Series(x_nan)\n",
    "\n",
    "print(\"z\")\n",
    "print(z)\n",
    "print(\"z_nan\")\n",
    "print(z_nan)"
   ]
  },
  {
   "cell_type": "markdown",
   "metadata": {},
   "source": [
    "4.1 Weighted Mean"
   ]
  },
  {
   "cell_type": "code",
   "execution_count": 111,
   "metadata": {},
   "outputs": [
    {
     "name": "stdout",
     "output_type": "stream",
     "text": [
      "[84, 80, 95]\n"
     ]
    }
   ],
   "source": [
    "# Jika bobot setiap item berbeda-beda\n",
    "\n",
    "# Tugas 35%, UTS 30%, UAS 35%\n",
    "\n",
    "tugas = [78, 82, 92]\n",
    "tugas = [statistics.mean(tugas)]\n",
    "\n",
    "uts = 80\n",
    "\n",
    "uas = 95\n",
    "\n",
    "tugas.append(uts)\n",
    "tugas.append(uas)\n",
    "\n",
    "nilai = tugas\n",
    "\n",
    "print(nilai)"
   ]
  },
  {
   "cell_type": "code",
   "execution_count": 112,
   "metadata": {},
   "outputs": [
    {
     "name": "stdout",
     "output_type": "stream",
     "text": [
      "rata-rata tanpa bobot =  86.33333333333333\n",
      "\n",
      "weighted mean =  87.00000000000001\n"
     ]
    }
   ],
   "source": [
    "# tentukan bobot\n",
    "bobot = [0.35, 0.25, 0.35]\n",
    "\n",
    "# rata-rata biasa :\n",
    "print(\"rata-rata tanpa bobot = \", statistics.mean(nilai))\n",
    "\n",
    "print()\n",
    "\n",
    "# rata-rata dengan bobot :\n",
    "print(\"weighted mean = \", np.average(nilai, weights=bobot))"
   ]
  },
  {
   "cell_type": "markdown",
   "metadata": {},
   "source": [
    "4.2 Harmonic Mean"
   ]
  },
  {
   "cell_type": "code",
   "execution_count": 113,
   "metadata": {},
   "outputs": [
    {
     "name": "stdout",
     "output_type": "stream",
     "text": [
      "rata-rata biasa =  30.25\n",
      "\n",
      "harmonic mean =  10.70063694267516\n",
      "harmonic mean =  10.700636942675159\n"
     ]
    }
   ],
   "source": [
    "gaji = [100, 30, 25, 15, 8, 3.5]\n",
    "\n",
    "# rata-rata biasa :\n",
    "print(\"rata-rata biasa = \", statistics.mean(gaji))\n",
    "print()\n",
    "\n",
    "# rata-rata yang memperhatikan adanya outlier\n",
    "print(\"harmonic mean = \", statistics.harmonic_mean(gaji))\n",
    "print(\"harmonic mean = \", scipy.stats.hmean(gaji))"
   ]
  },
  {
   "cell_type": "markdown",
   "metadata": {},
   "source": [
    "4.3 Geometric Mean"
   ]
  },
  {
   "cell_type": "code",
   "execution_count": 114,
   "metadata": {},
   "outputs": [
    {
     "name": "stdout",
     "output_type": "stream",
     "text": [
      "geometric mean seller A =  11.97914855071094\n",
      "geometric mean seller B =  10.95445115010332\n"
     ]
    }
   ],
   "source": [
    "# Seller A memiliki 205 review dan 3.5/5 bintang\n",
    "# Seller B memiliki 150 review dan 4/5 bintang\n",
    "\n",
    "# manakah yang lebih baik?\n",
    "\n",
    "sellerA = [205,3.5/5]\n",
    "sellerB = [150,4/5]\n",
    "\n",
    "# rata-rata yang memperhatikan kedua aspek\n",
    "print(\"geometric mean seller A = \", scipy.stats.gmean(sellerA))\n",
    "print(\"geometric mean seller B = \", scipy.stats.gmean(sellerB))"
   ]
  },
  {
   "cell_type": "markdown",
   "metadata": {},
   "source": [
    "## 5. Measure of Variability"
   ]
  },
  {
   "cell_type": "code",
   "execution_count": 115,
   "metadata": {},
   "outputs": [
    {
     "name": "stdout",
     "output_type": "stream",
     "text": [
      "x = [2, 3.1, 8, 2.8, 0, 2, 5.6, 2.8, 6, 9.1, 2.8, 2]\n",
      "x_nan = [2, 3.1, 8, 2.8, 0, 2, 5.6, 2.8, nan, 6, 9.1, 2.8, 2]\n",
      "\n",
      "y = [2.  3.1 8.  2.8 0.  2.  5.6 2.8 6.  9.1 2.8 2. ]\n",
      "y_nan = [2.  3.1 8.  2.8 0.  2.  5.6 2.8 nan 6.  9.1 2.8 2. ]\n",
      "\n",
      "z\n",
      "0     2.0\n",
      "1     3.1\n",
      "2     8.0\n",
      "3     2.8\n",
      "4     0.0\n",
      "5     2.0\n",
      "6     5.6\n",
      "7     2.8\n",
      "8     6.0\n",
      "9     9.1\n",
      "10    2.8\n",
      "11    2.0\n",
      "dtype: float64\n",
      "z_nan\n",
      "0     2.0\n",
      "1     3.1\n",
      "2     8.0\n",
      "3     2.8\n",
      "4     0.0\n",
      "5     2.0\n",
      "6     5.6\n",
      "7     2.8\n",
      "8     NaN\n",
      "9     6.0\n",
      "10    9.1\n",
      "11    2.8\n",
      "12    2.0\n",
      "dtype: float64\n"
     ]
    }
   ],
   "source": [
    "print(\"x =\",x)\n",
    "print(\"x_nan =\",x_nan)\n",
    "print()\n",
    "\n",
    "print(\"y =\",y)\n",
    "print(\"y_nan =\",y_nan)\n",
    "print()\n",
    "\n",
    "print(\"z\")\n",
    "print(z)\n",
    "print(\"z_nan\")\n",
    "print(z_nan)"
   ]
  },
  {
   "cell_type": "markdown",
   "metadata": {},
   "source": [
    "5.1. Range"
   ]
  },
  {
   "cell_type": "code",
   "execution_count": 116,
   "metadata": {},
   "outputs": [
    {
     "name": "stdout",
     "output_type": "stream",
     "text": [
      "9.1\n",
      "9.1\n"
     ]
    }
   ],
   "source": [
    "# Dengan vanilla python : untuk list\n",
    "\n",
    "print(max(x)-min(x))\n",
    "print(max(x_nan)-min(x_nan))"
   ]
  },
  {
   "cell_type": "code",
   "execution_count": 117,
   "metadata": {},
   "outputs": [
    {
     "name": "stdout",
     "output_type": "stream",
     "text": [
      "9.1\n",
      "9.1\n",
      "\n",
      "nan\n",
      "nan\n"
     ]
    }
   ],
   "source": [
    "# Dengan Numpy\n",
    "\n",
    "print(y.max()-y.min())\n",
    "print(np.ptp(y))\n",
    "\n",
    "print()\n",
    "\n",
    "print(y_nan.max()-y_nan.min())\n",
    "print(np.ptp(y_nan))"
   ]
  },
  {
   "cell_type": "code",
   "execution_count": 118,
   "metadata": {},
   "outputs": [
    {
     "name": "stdout",
     "output_type": "stream",
     "text": [
      "9.1\n",
      "9.1\n"
     ]
    }
   ],
   "source": [
    "# Dengan Pandas\n",
    "\n",
    "print(z.max()-z.min())\n",
    "\n",
    "print(z_nan.max()-z_nan.min())"
   ]
  },
  {
   "cell_type": "markdown",
   "metadata": {},
   "source": [
    "5.2 Standard Dev"
   ]
  },
  {
   "cell_type": "code",
   "execution_count": 119,
   "metadata": {},
   "outputs": [
    {
     "name": "stdout",
     "output_type": "stream",
     "text": [
      "Sample\n",
      "2.7207953382654995\n"
     ]
    }
   ],
   "source": [
    "# Dengan Stactistics\n",
    "\n",
    "# Sample\n",
    "print(\"Sample\")\n",
    "print(statistics.stdev(x))"
   ]
  },
  {
   "cell_type": "code",
   "execution_count": 120,
   "metadata": {},
   "outputs": [
    {
     "name": "stdout",
     "output_type": "stream",
     "text": [
      "Populasi\n",
      "2.6049632115124646\n",
      "nan\n",
      "\n",
      "Sample\n",
      "2.7207953382654995\n",
      "nan\n"
     ]
    }
   ],
   "source": [
    "# Dengan Numpy\n",
    "# Populasi\n",
    "print(\"Populasi\")\n",
    "print(y.std())\n",
    "print(y_nan.std())\n",
    "\n",
    "print()\n",
    "\n",
    "# Sample\n",
    "print(\"Sample\")\n",
    "print(y.std(ddof=1))\n",
    "print(y_nan.std(ddof=1))"
   ]
  },
  {
   "cell_type": "code",
   "execution_count": 121,
   "metadata": {},
   "outputs": [
    {
     "name": "stdout",
     "output_type": "stream",
     "text": [
      "Sample\n",
      "2.7207953382654995\n",
      "2.7207953382654995\n",
      "\n",
      "Populasi\n",
      "2.6049632115124646\n",
      "2.6049632115124646\n"
     ]
    }
   ],
   "source": [
    "# Dengan Pandas \n",
    "# Sample\n",
    "print(\"Sample\")\n",
    "print(z.std())\n",
    "print(z_nan.std())\n",
    "\n",
    "print()\n",
    "\n",
    "# Populasi\n",
    "print(\"Populasi\")\n",
    "print(z.std(ddof=0))\n",
    "print(z_nan.std(ddof=0))\n"
   ]
  },
  {
   "cell_type": "markdown",
   "metadata": {},
   "source": [
    "5.3. Variance"
   ]
  },
  {
   "cell_type": "code",
   "execution_count": 122,
   "metadata": {},
   "outputs": [
    {
     "name": "stdout",
     "output_type": "stream",
     "text": [
      "Sample\n",
      "7.402727272727273\n"
     ]
    }
   ],
   "source": [
    "# Dengan Stactistics\n",
    "\n",
    "# Sample\n",
    "print(\"Sample\")\n",
    "print(statistics.variance(x))"
   ]
  },
  {
   "cell_type": "code",
   "execution_count": 123,
   "metadata": {},
   "outputs": [
    {
     "name": "stdout",
     "output_type": "stream",
     "text": [
      "Populasi\n",
      "6.785833333333334\n",
      "nan\n",
      "\n",
      "Sample\n",
      "7.402727272727273\n",
      "nan\n"
     ]
    }
   ],
   "source": [
    "# Dengan Numpy\n",
    "# Populasi\n",
    "print(\"Populasi\")\n",
    "print(y.var())\n",
    "print(y_nan.var())\n",
    "\n",
    "print()\n",
    "\n",
    "# Sample\n",
    "print(\"Sample\")\n",
    "print(y.var(ddof=1))\n",
    "print(y_nan.var(ddof=1))"
   ]
  },
  {
   "cell_type": "code",
   "execution_count": 124,
   "metadata": {},
   "outputs": [
    {
     "name": "stdout",
     "output_type": "stream",
     "text": [
      "Sample\n",
      "7.402727272727273\n",
      "7.402727272727273\n",
      "\n",
      "Populasi\n",
      "6.785833333333334\n",
      "6.785833333333334\n"
     ]
    }
   ],
   "source": [
    "# Dengan Pandas \n",
    "# Sample\n",
    "print(\"Sample\")\n",
    "print(z.var())\n",
    "print(z_nan.var())\n",
    "\n",
    "print()\n",
    "\n",
    "# Populasi\n",
    "print(\"Populasi\")\n",
    "print(z.var(ddof=0))\n",
    "print(z_nan.var(ddof=0))"
   ]
  },
  {
   "cell_type": "markdown",
   "metadata": {},
   "source": [
    "## 6. Quartile and Precentile"
   ]
  },
  {
   "cell_type": "code",
   "execution_count": 125,
   "metadata": {},
   "outputs": [
    {
     "data": {
      "text/plain": [
       "[2.0, 2.8, 5.9]"
      ]
     },
     "execution_count": 125,
     "metadata": {},
     "output_type": "execute_result"
    }
   ],
   "source": [
    "# Dengan Statistics\n",
    "statistics.quantiles(x)"
   ]
  },
  {
   "cell_type": "code",
   "execution_count": 126,
   "metadata": {},
   "outputs": [
    {
     "name": "stdout",
     "output_type": "stream",
     "text": [
      "y\n",
      "2.0\n",
      "[2.  2.8 5.7]\n",
      "[2.24 2.8  5.92]\n",
      "\n",
      "y with nan\n",
      "nan\n",
      "[nan nan nan]\n",
      "[nan nan nan]\n"
     ]
    }
   ],
   "source": [
    "# Dengan Numpy\n",
    "print(\"y\")\n",
    "print(np.percentile(y,25))\n",
    "print(np.percentile(y,[25,50,75]))\n",
    "print(np.percentile(y,[30,50,80]))\n",
    "\n",
    "print()\n",
    "\n",
    "print(\"y with nan\")\n",
    "print(np.percentile(y_nan,25))\n",
    "print(np.percentile(y_nan,[25,50,75]))\n",
    "print(np.percentile(y_nan,[30,50,80]))"
   ]
  },
  {
   "cell_type": "code",
   "execution_count": 127,
   "metadata": {},
   "outputs": [
    {
     "name": "stdout",
     "output_type": "stream",
     "text": [
      "z\n",
      "2.0 \n",
      "\n",
      "0.25    2.0\n",
      "0.50    2.8\n",
      "0.75    5.7\n",
      "dtype: float64 \n",
      "\n",
      "0.1    2.0\n",
      "0.5    2.8\n",
      "0.9    7.8\n",
      "dtype: float64\n",
      "\n",
      "z with nan\n",
      "2.0 \n",
      "\n",
      "0.25    2.0\n",
      "0.50    2.8\n",
      "0.75    5.7\n",
      "dtype: float64 \n",
      "\n",
      "0.1    2.0\n",
      "0.5    2.8\n",
      "0.9    7.8\n",
      "dtype: float64\n"
     ]
    }
   ],
   "source": [
    "# Dengan Pandas \n",
    "print(\"z\")\n",
    "print(z.quantile(0.25), \"\\n\")\n",
    "print(z.quantile([0.25,0.5,0.75]), \"\\n\")\n",
    "print(z.quantile([0.1,0.5,0.9]))\n",
    "\n",
    "print()\n",
    "\n",
    "print(\"z with nan\")\n",
    "print(z_nan.quantile(0.25), \"\\n\")\n",
    "print(z_nan.quantile([0.25,0.5,0.75]), \"\\n\")\n",
    "print(z_nan.quantile([0.1,0.5,0.9]))"
   ]
  },
  {
   "cell_type": "markdown",
   "metadata": {},
   "source": [
    "## 7. Inter-quartile Range"
   ]
  },
  {
   "cell_type": "code",
   "execution_count": 128,
   "metadata": {},
   "outputs": [
    {
     "name": "stdout",
     "output_type": "stream",
     "text": [
      "y\n",
      "3.6999999999999993\n",
      "\n",
      "y_nan\n",
      "nan\n"
     ]
    }
   ],
   "source": [
    "# Dengan Numpy\n",
    "print(\"y\")\n",
    "print(np.percentile(y,75)-np.percentile(y,25))\n",
    "\n",
    "print()\n",
    "\n",
    "print(\"y_nan\")\n",
    "print(np.percentile(y_nan,75)-np.percentile(y_nan,25))"
   ]
  },
  {
   "cell_type": "code",
   "execution_count": 129,
   "metadata": {},
   "outputs": [
    {
     "name": "stdout",
     "output_type": "stream",
     "text": [
      "z\n",
      "3.6999999999999993\n",
      "\n",
      "z with nan\n",
      "3.6999999999999993\n"
     ]
    }
   ],
   "source": [
    "# Dengan Pandas \n",
    "print(\"z\")\n",
    "print(z.quantile(0.75)-z.quantile(0.25))\n",
    "\n",
    "\n",
    "print()\n",
    "\n",
    "print(\"z with nan\")\n",
    "print(z_nan.quantile(0.75)-z_nan.quantile(0.25))\n"
   ]
  },
  {
   "cell_type": "markdown",
   "metadata": {},
   "source": [
    "## 8. `Shortcut Describe`"
   ]
  },
  {
   "cell_type": "code",
   "execution_count": 130,
   "metadata": {},
   "outputs": [
    {
     "name": "stdout",
     "output_type": "stream",
     "text": [
      "x\n",
      "DescribeResult(nobs=12, minmax=(0.0, 9.1), mean=3.8499999999999996, variance=7.402727272727273, skewness=0.8206635897087141, kurtosis=-0.16337290390650816)\n",
      "\n",
      "x_nan\n",
      "DescribeResult(nobs=13, minmax=(nan, nan), mean=nan, variance=nan, skewness=nan, kurtosis=nan)\n"
     ]
    }
   ],
   "source": [
    "# dengan Scipy\n",
    "# Sampel\n",
    "print(\"x\")\n",
    "print(scipy.stats.describe(x, ddof=1, bias=False))\n",
    "\n",
    "print()\n",
    "print(\"x_nan\")\n",
    "print(scipy.stats.describe(x_nan, ddof=1, bias=False))\n"
   ]
  },
  {
   "cell_type": "code",
   "execution_count": 131,
   "metadata": {},
   "outputs": [
    {
     "name": "stdout",
     "output_type": "stream",
     "text": [
      "z\n",
      "count    12.000000\n",
      "mean      3.850000\n",
      "std       2.720795\n",
      "min       0.000000\n",
      "25%       2.000000\n",
      "50%       2.800000\n",
      "75%       5.700000\n",
      "max       9.100000\n",
      "dtype: float64\n",
      "\n",
      "z_nan\n",
      "count    12.000000\n",
      "mean      3.850000\n",
      "std       2.720795\n",
      "min       0.000000\n",
      "25%       2.000000\n",
      "50%       2.800000\n",
      "75%       5.700000\n",
      "max       9.100000\n",
      "dtype: float64\n"
     ]
    }
   ],
   "source": [
    "# Dengan Pandas \n",
    "print(\"z\")\n",
    "print(z.describe())\n",
    "\n",
    "print()\n",
    "\n",
    "print(\"z_nan\")\n",
    "print(z_nan.describe())"
   ]
  },
  {
   "cell_type": "markdown",
   "metadata": {},
   "source": [
    "## CORRELATION"
   ]
  },
  {
   "cell_type": "code",
   "execution_count": 132,
   "metadata": {},
   "outputs": [
    {
     "data": {
      "text/html": [
       "<div>\n",
       "<style scoped>\n",
       "    .dataframe tbody tr th:only-of-type {\n",
       "        vertical-align: middle;\n",
       "    }\n",
       "\n",
       "    .dataframe tbody tr th {\n",
       "        vertical-align: top;\n",
       "    }\n",
       "\n",
       "    .dataframe thead th {\n",
       "        text-align: right;\n",
       "    }\n",
       "</style>\n",
       "<table border=\"1\" class=\"dataframe\">\n",
       "  <thead>\n",
       "    <tr style=\"text-align: right;\">\n",
       "      <th></th>\n",
       "      <th>1980</th>\n",
       "      <th>1981</th>\n",
       "      <th>1982</th>\n",
       "      <th>1983</th>\n",
       "      <th>1984</th>\n",
       "      <th>1985</th>\n",
       "      <th>1986</th>\n",
       "      <th>1987</th>\n",
       "      <th>1988</th>\n",
       "      <th>1989</th>\n",
       "      <th>...</th>\n",
       "      <th>2004</th>\n",
       "      <th>2005</th>\n",
       "      <th>2006</th>\n",
       "      <th>2007</th>\n",
       "      <th>2008</th>\n",
       "      <th>2009</th>\n",
       "      <th>2010</th>\n",
       "      <th>2011</th>\n",
       "      <th>2012</th>\n",
       "      <th>2013</th>\n",
       "    </tr>\n",
       "    <tr>\n",
       "      <th>Country</th>\n",
       "      <th></th>\n",
       "      <th></th>\n",
       "      <th></th>\n",
       "      <th></th>\n",
       "      <th></th>\n",
       "      <th></th>\n",
       "      <th></th>\n",
       "      <th></th>\n",
       "      <th></th>\n",
       "      <th></th>\n",
       "      <th></th>\n",
       "      <th></th>\n",
       "      <th></th>\n",
       "      <th></th>\n",
       "      <th></th>\n",
       "      <th></th>\n",
       "      <th></th>\n",
       "      <th></th>\n",
       "      <th></th>\n",
       "      <th></th>\n",
       "      <th></th>\n",
       "    </tr>\n",
       "  </thead>\n",
       "  <tbody>\n",
       "    <tr>\n",
       "      <th>Afghanistan</th>\n",
       "      <td>NaN</td>\n",
       "      <td>NaN</td>\n",
       "      <td>NaN</td>\n",
       "      <td>0.0</td>\n",
       "      <td>0.0</td>\n",
       "      <td>0.0</td>\n",
       "      <td>0.0</td>\n",
       "      <td>0.0</td>\n",
       "      <td>1.0</td>\n",
       "      <td>1.0</td>\n",
       "      <td>...</td>\n",
       "      <td>284.0</td>\n",
       "      <td>264.0</td>\n",
       "      <td>261</td>\n",
       "      <td>242</td>\n",
       "      <td>219</td>\n",
       "      <td>226</td>\n",
       "      <td>321</td>\n",
       "      <td>373</td>\n",
       "      <td>593</td>\n",
       "      <td>627</td>\n",
       "    </tr>\n",
       "    <tr>\n",
       "      <th>Albania</th>\n",
       "      <td>NaN</td>\n",
       "      <td>NaN</td>\n",
       "      <td>NaN</td>\n",
       "      <td>0.0</td>\n",
       "      <td>0.0</td>\n",
       "      <td>0.0</td>\n",
       "      <td>0.0</td>\n",
       "      <td>0.0</td>\n",
       "      <td>1.0</td>\n",
       "      <td>0.0</td>\n",
       "      <td>...</td>\n",
       "      <td>24.0</td>\n",
       "      <td>17.0</td>\n",
       "      <td>15</td>\n",
       "      <td>14</td>\n",
       "      <td>31</td>\n",
       "      <td>14</td>\n",
       "      <td>9</td>\n",
       "      <td>21</td>\n",
       "      <td>38</td>\n",
       "      <td>59</td>\n",
       "    </tr>\n",
       "    <tr>\n",
       "      <th>Algeria</th>\n",
       "      <td>NaN</td>\n",
       "      <td>NaN</td>\n",
       "      <td>NaN</td>\n",
       "      <td>14.0</td>\n",
       "      <td>20.0</td>\n",
       "      <td>10.0</td>\n",
       "      <td>11.0</td>\n",
       "      <td>16.0</td>\n",
       "      <td>27.0</td>\n",
       "      <td>42.0</td>\n",
       "      <td>...</td>\n",
       "      <td>29.0</td>\n",
       "      <td>31.0</td>\n",
       "      <td>30</td>\n",
       "      <td>36</td>\n",
       "      <td>32</td>\n",
       "      <td>43</td>\n",
       "      <td>36</td>\n",
       "      <td>34</td>\n",
       "      <td>46</td>\n",
       "      <td>42</td>\n",
       "    </tr>\n",
       "    <tr>\n",
       "      <th>Angola</th>\n",
       "      <td>NaN</td>\n",
       "      <td>NaN</td>\n",
       "      <td>NaN</td>\n",
       "      <td>0.0</td>\n",
       "      <td>0.0</td>\n",
       "      <td>1.0</td>\n",
       "      <td>0.0</td>\n",
       "      <td>0.0</td>\n",
       "      <td>0.0</td>\n",
       "      <td>0.0</td>\n",
       "      <td>...</td>\n",
       "      <td>55.0</td>\n",
       "      <td>32.0</td>\n",
       "      <td>13</td>\n",
       "      <td>25</td>\n",
       "      <td>39</td>\n",
       "      <td>19</td>\n",
       "      <td>22</td>\n",
       "      <td>35</td>\n",
       "      <td>28</td>\n",
       "      <td>33</td>\n",
       "    </tr>\n",
       "    <tr>\n",
       "      <th>Argentina</th>\n",
       "      <td>NaN</td>\n",
       "      <td>NaN</td>\n",
       "      <td>NaN</td>\n",
       "      <td>4.0</td>\n",
       "      <td>2.0</td>\n",
       "      <td>4.0</td>\n",
       "      <td>0.0</td>\n",
       "      <td>5.0</td>\n",
       "      <td>8.0</td>\n",
       "      <td>7.0</td>\n",
       "      <td>...</td>\n",
       "      <td>9.0</td>\n",
       "      <td>10.0</td>\n",
       "      <td>13</td>\n",
       "      <td>13</td>\n",
       "      <td>17</td>\n",
       "      <td>16</td>\n",
       "      <td>14</td>\n",
       "      <td>18</td>\n",
       "      <td>20</td>\n",
       "      <td>20</td>\n",
       "    </tr>\n",
       "    <tr>\n",
       "      <th>...</th>\n",
       "      <td>...</td>\n",
       "      <td>...</td>\n",
       "      <td>...</td>\n",
       "      <td>...</td>\n",
       "      <td>...</td>\n",
       "      <td>...</td>\n",
       "      <td>...</td>\n",
       "      <td>...</td>\n",
       "      <td>...</td>\n",
       "      <td>...</td>\n",
       "      <td>...</td>\n",
       "      <td>...</td>\n",
       "      <td>...</td>\n",
       "      <td>...</td>\n",
       "      <td>...</td>\n",
       "      <td>...</td>\n",
       "      <td>...</td>\n",
       "      <td>...</td>\n",
       "      <td>...</td>\n",
       "      <td>...</td>\n",
       "      <td>...</td>\n",
       "    </tr>\n",
       "    <tr>\n",
       "      <th>Venezuela (Bolivarian Republic of)</th>\n",
       "      <td>NaN</td>\n",
       "      <td>NaN</td>\n",
       "      <td>NaN</td>\n",
       "      <td>0.0</td>\n",
       "      <td>0.0</td>\n",
       "      <td>2.0</td>\n",
       "      <td>3.0</td>\n",
       "      <td>0.0</td>\n",
       "      <td>1.0</td>\n",
       "      <td>1.0</td>\n",
       "      <td>...</td>\n",
       "      <td>4.0</td>\n",
       "      <td>3.0</td>\n",
       "      <td>2</td>\n",
       "      <td>5</td>\n",
       "      <td>9</td>\n",
       "      <td>7</td>\n",
       "      <td>18</td>\n",
       "      <td>17</td>\n",
       "      <td>19</td>\n",
       "      <td>13</td>\n",
       "    </tr>\n",
       "    <tr>\n",
       "      <th>Viet Nam</th>\n",
       "      <td>NaN</td>\n",
       "      <td>NaN</td>\n",
       "      <td>NaN</td>\n",
       "      <td>12.0</td>\n",
       "      <td>7.0</td>\n",
       "      <td>0.0</td>\n",
       "      <td>3.0</td>\n",
       "      <td>3.0</td>\n",
       "      <td>16.0</td>\n",
       "      <td>49.0</td>\n",
       "      <td>...</td>\n",
       "      <td>80.0</td>\n",
       "      <td>180.0</td>\n",
       "      <td>209</td>\n",
       "      <td>262</td>\n",
       "      <td>317</td>\n",
       "      <td>300</td>\n",
       "      <td>272</td>\n",
       "      <td>360</td>\n",
       "      <td>379</td>\n",
       "      <td>402</td>\n",
       "    </tr>\n",
       "    <tr>\n",
       "      <th>Yemen</th>\n",
       "      <td>NaN</td>\n",
       "      <td>NaN</td>\n",
       "      <td>NaN</td>\n",
       "      <td>0.0</td>\n",
       "      <td>0.0</td>\n",
       "      <td>0.0</td>\n",
       "      <td>0.0</td>\n",
       "      <td>1.0</td>\n",
       "      <td>0.0</td>\n",
       "      <td>2.0</td>\n",
       "      <td>...</td>\n",
       "      <td>1.0</td>\n",
       "      <td>2.0</td>\n",
       "      <td>1</td>\n",
       "      <td>3</td>\n",
       "      <td>1</td>\n",
       "      <td>0</td>\n",
       "      <td>4</td>\n",
       "      <td>5</td>\n",
       "      <td>11</td>\n",
       "      <td>3</td>\n",
       "    </tr>\n",
       "    <tr>\n",
       "      <th>Zambia</th>\n",
       "      <td>NaN</td>\n",
       "      <td>NaN</td>\n",
       "      <td>NaN</td>\n",
       "      <td>1.0</td>\n",
       "      <td>1.0</td>\n",
       "      <td>4.0</td>\n",
       "      <td>3.0</td>\n",
       "      <td>2.0</td>\n",
       "      <td>6.0</td>\n",
       "      <td>10.0</td>\n",
       "      <td>...</td>\n",
       "      <td>10.0</td>\n",
       "      <td>6.0</td>\n",
       "      <td>6</td>\n",
       "      <td>6</td>\n",
       "      <td>19</td>\n",
       "      <td>10</td>\n",
       "      <td>10</td>\n",
       "      <td>13</td>\n",
       "      <td>7</td>\n",
       "      <td>13</td>\n",
       "    </tr>\n",
       "    <tr>\n",
       "      <th>Zimbabwe</th>\n",
       "      <td>NaN</td>\n",
       "      <td>NaN</td>\n",
       "      <td>NaN</td>\n",
       "      <td>0.0</td>\n",
       "      <td>0.0</td>\n",
       "      <td>1.0</td>\n",
       "      <td>0.0</td>\n",
       "      <td>0.0</td>\n",
       "      <td>1.0</td>\n",
       "      <td>3.0</td>\n",
       "      <td>...</td>\n",
       "      <td>2.0</td>\n",
       "      <td>1.0</td>\n",
       "      <td>3</td>\n",
       "      <td>3</td>\n",
       "      <td>4</td>\n",
       "      <td>4</td>\n",
       "      <td>5</td>\n",
       "      <td>2</td>\n",
       "      <td>3</td>\n",
       "      <td>10</td>\n",
       "    </tr>\n",
       "  </tbody>\n",
       "</table>\n",
       "<p>179 rows × 34 columns</p>\n",
       "</div>"
      ],
      "text/plain": [
       "                                    1980  1981  1982  1983  1984  1985  1986  \\\n",
       "Country                                                                        \n",
       "Afghanistan                          NaN   NaN   NaN   0.0   0.0   0.0   0.0   \n",
       "Albania                              NaN   NaN   NaN   0.0   0.0   0.0   0.0   \n",
       "Algeria                              NaN   NaN   NaN  14.0  20.0  10.0  11.0   \n",
       "Angola                               NaN   NaN   NaN   0.0   0.0   1.0   0.0   \n",
       "Argentina                            NaN   NaN   NaN   4.0   2.0   4.0   0.0   \n",
       "...                                  ...   ...   ...   ...   ...   ...   ...   \n",
       "Venezuela (Bolivarian Republic of)   NaN   NaN   NaN   0.0   0.0   2.0   3.0   \n",
       "Viet Nam                             NaN   NaN   NaN  12.0   7.0   0.0   3.0   \n",
       "Yemen                                NaN   NaN   NaN   0.0   0.0   0.0   0.0   \n",
       "Zambia                               NaN   NaN   NaN   1.0   1.0   4.0   3.0   \n",
       "Zimbabwe                             NaN   NaN   NaN   0.0   0.0   1.0   0.0   \n",
       "\n",
       "                                    1987  1988  1989  ...   2004   2005  2006  \\\n",
       "Country                                               ...                       \n",
       "Afghanistan                          0.0   1.0   1.0  ...  284.0  264.0   261   \n",
       "Albania                              0.0   1.0   0.0  ...   24.0   17.0    15   \n",
       "Algeria                             16.0  27.0  42.0  ...   29.0   31.0    30   \n",
       "Angola                               0.0   0.0   0.0  ...   55.0   32.0    13   \n",
       "Argentina                            5.0   8.0   7.0  ...    9.0   10.0    13   \n",
       "...                                  ...   ...   ...  ...    ...    ...   ...   \n",
       "Venezuela (Bolivarian Republic of)   0.0   1.0   1.0  ...    4.0    3.0     2   \n",
       "Viet Nam                             3.0  16.0  49.0  ...   80.0  180.0   209   \n",
       "Yemen                                1.0   0.0   2.0  ...    1.0    2.0     1   \n",
       "Zambia                               2.0   6.0  10.0  ...   10.0    6.0     6   \n",
       "Zimbabwe                             0.0   1.0   3.0  ...    2.0    1.0     3   \n",
       "\n",
       "                                    2007  2008  2009  2010  2011  2012  2013  \n",
       "Country                                                                       \n",
       "Afghanistan                          242   219   226   321   373   593   627  \n",
       "Albania                               14    31    14     9    21    38    59  \n",
       "Algeria                               36    32    43    36    34    46    42  \n",
       "Angola                                25    39    19    22    35    28    33  \n",
       "Argentina                             13    17    16    14    18    20    20  \n",
       "...                                  ...   ...   ...   ...   ...   ...   ...  \n",
       "Venezuela (Bolivarian Republic of)     5     9     7    18    17    19    13  \n",
       "Viet Nam                             262   317   300   272   360   379   402  \n",
       "Yemen                                  3     1     0     4     5    11     3  \n",
       "Zambia                                 6    19    10    10    13     7    13  \n",
       "Zimbabwe                               3     4     4     5     2     3    10  \n",
       "\n",
       "[179 rows x 34 columns]"
      ]
     },
     "execution_count": 132,
     "metadata": {},
     "output_type": "execute_result"
    }
   ],
   "source": [
    "# import data\n",
    "\n",
    "df_fin = pd.read_excel(\"Finland.xlsx\", \n",
    "                        # ambil sheet yang akan digunakan\n",
    "                        sheet_name = \"Finland by Citizenship\",\n",
    "                        # hapus header yang ga dibutuhkan\n",
    "                        skiprows=20,\n",
    "                        # hapus baris terakhir\n",
    "                        skipfooter=2,\n",
    "                        #cleaning unknown value\n",
    "                        na_values=\"..\"\n",
    "                        )\n",
    "df_fin = df_fin[df_fin[\"Type\"]==\"Immigrants\"]\n",
    "df_fin = df_fin.drop(columns={'Type','Coverage','AREA','AreaName','REG','RegName','DEV','DevName'})\n",
    "df_fin = df_fin.rename(columns={'OdName':'Country'})\n",
    "df_fin = df_fin.set_index('Country')\n",
    "df_fin"
   ]
  },
  {
   "cell_type": "code",
   "execution_count": 133,
   "metadata": {},
   "outputs": [
    {
     "data": {
      "text/html": [
       "<div>\n",
       "<style scoped>\n",
       "    .dataframe tbody tr th:only-of-type {\n",
       "        vertical-align: middle;\n",
       "    }\n",
       "\n",
       "    .dataframe tbody tr th {\n",
       "        vertical-align: top;\n",
       "    }\n",
       "\n",
       "    .dataframe thead th {\n",
       "        text-align: right;\n",
       "    }\n",
       "</style>\n",
       "<table border=\"1\" class=\"dataframe\">\n",
       "  <thead>\n",
       "    <tr style=\"text-align: right;\">\n",
       "      <th>Country</th>\n",
       "      <th>Malaysia</th>\n",
       "      <th>Singapore</th>\n",
       "    </tr>\n",
       "  </thead>\n",
       "  <tbody>\n",
       "    <tr>\n",
       "      <th>1980</th>\n",
       "      <td>NaN</td>\n",
       "      <td>NaN</td>\n",
       "    </tr>\n",
       "    <tr>\n",
       "      <th>1981</th>\n",
       "      <td>NaN</td>\n",
       "      <td>NaN</td>\n",
       "    </tr>\n",
       "    <tr>\n",
       "      <th>1982</th>\n",
       "      <td>NaN</td>\n",
       "      <td>NaN</td>\n",
       "    </tr>\n",
       "    <tr>\n",
       "      <th>1983</th>\n",
       "      <td>1.0</td>\n",
       "      <td>1.0</td>\n",
       "    </tr>\n",
       "    <tr>\n",
       "      <th>1984</th>\n",
       "      <td>1.0</td>\n",
       "      <td>0.0</td>\n",
       "    </tr>\n",
       "    <tr>\n",
       "      <th>1985</th>\n",
       "      <td>7.0</td>\n",
       "      <td>1.0</td>\n",
       "    </tr>\n",
       "    <tr>\n",
       "      <th>1986</th>\n",
       "      <td>5.0</td>\n",
       "      <td>4.0</td>\n",
       "    </tr>\n",
       "    <tr>\n",
       "      <th>1987</th>\n",
       "      <td>8.0</td>\n",
       "      <td>3.0</td>\n",
       "    </tr>\n",
       "    <tr>\n",
       "      <th>1988</th>\n",
       "      <td>10.0</td>\n",
       "      <td>0.0</td>\n",
       "    </tr>\n",
       "    <tr>\n",
       "      <th>1989</th>\n",
       "      <td>25.0</td>\n",
       "      <td>1.0</td>\n",
       "    </tr>\n",
       "    <tr>\n",
       "      <th>1990</th>\n",
       "      <td>16.0</td>\n",
       "      <td>2.0</td>\n",
       "    </tr>\n",
       "    <tr>\n",
       "      <th>1991</th>\n",
       "      <td>33.0</td>\n",
       "      <td>4.0</td>\n",
       "    </tr>\n",
       "    <tr>\n",
       "      <th>1992</th>\n",
       "      <td>15.0</td>\n",
       "      <td>3.0</td>\n",
       "    </tr>\n",
       "    <tr>\n",
       "      <th>1993</th>\n",
       "      <td>4.0</td>\n",
       "      <td>3.0</td>\n",
       "    </tr>\n",
       "    <tr>\n",
       "      <th>1994</th>\n",
       "      <td>4.0</td>\n",
       "      <td>4.0</td>\n",
       "    </tr>\n",
       "    <tr>\n",
       "      <th>1995</th>\n",
       "      <td>6.0</td>\n",
       "      <td>1.0</td>\n",
       "    </tr>\n",
       "    <tr>\n",
       "      <th>1996</th>\n",
       "      <td>2.0</td>\n",
       "      <td>1.0</td>\n",
       "    </tr>\n",
       "    <tr>\n",
       "      <th>1997</th>\n",
       "      <td>5.0</td>\n",
       "      <td>3.0</td>\n",
       "    </tr>\n",
       "    <tr>\n",
       "      <th>1998</th>\n",
       "      <td>12.0</td>\n",
       "      <td>5.0</td>\n",
       "    </tr>\n",
       "    <tr>\n",
       "      <th>1999</th>\n",
       "      <td>7.0</td>\n",
       "      <td>7.0</td>\n",
       "    </tr>\n",
       "    <tr>\n",
       "      <th>2000</th>\n",
       "      <td>7.0</td>\n",
       "      <td>2.0</td>\n",
       "    </tr>\n",
       "    <tr>\n",
       "      <th>2001</th>\n",
       "      <td>12.0</td>\n",
       "      <td>7.0</td>\n",
       "    </tr>\n",
       "    <tr>\n",
       "      <th>2002</th>\n",
       "      <td>12.0</td>\n",
       "      <td>6.0</td>\n",
       "    </tr>\n",
       "    <tr>\n",
       "      <th>2003</th>\n",
       "      <td>17.0</td>\n",
       "      <td>6.0</td>\n",
       "    </tr>\n",
       "    <tr>\n",
       "      <th>2004</th>\n",
       "      <td>13.0</td>\n",
       "      <td>4.0</td>\n",
       "    </tr>\n",
       "    <tr>\n",
       "      <th>2005</th>\n",
       "      <td>26.0</td>\n",
       "      <td>13.0</td>\n",
       "    </tr>\n",
       "    <tr>\n",
       "      <th>2006</th>\n",
       "      <td>15.0</td>\n",
       "      <td>6.0</td>\n",
       "    </tr>\n",
       "    <tr>\n",
       "      <th>2007</th>\n",
       "      <td>25.0</td>\n",
       "      <td>10.0</td>\n",
       "    </tr>\n",
       "    <tr>\n",
       "      <th>2008</th>\n",
       "      <td>29.0</td>\n",
       "      <td>23.0</td>\n",
       "    </tr>\n",
       "    <tr>\n",
       "      <th>2009</th>\n",
       "      <td>30.0</td>\n",
       "      <td>16.0</td>\n",
       "    </tr>\n",
       "    <tr>\n",
       "      <th>2010</th>\n",
       "      <td>19.0</td>\n",
       "      <td>6.0</td>\n",
       "    </tr>\n",
       "    <tr>\n",
       "      <th>2011</th>\n",
       "      <td>19.0</td>\n",
       "      <td>16.0</td>\n",
       "    </tr>\n",
       "    <tr>\n",
       "      <th>2012</th>\n",
       "      <td>25.0</td>\n",
       "      <td>13.0</td>\n",
       "    </tr>\n",
       "    <tr>\n",
       "      <th>2013</th>\n",
       "      <td>21.0</td>\n",
       "      <td>8.0</td>\n",
       "    </tr>\n",
       "  </tbody>\n",
       "</table>\n",
       "</div>"
      ],
      "text/plain": [
       "Country  Malaysia  Singapore\n",
       "1980          NaN        NaN\n",
       "1981          NaN        NaN\n",
       "1982          NaN        NaN\n",
       "1983          1.0        1.0\n",
       "1984          1.0        0.0\n",
       "1985          7.0        1.0\n",
       "1986          5.0        4.0\n",
       "1987          8.0        3.0\n",
       "1988         10.0        0.0\n",
       "1989         25.0        1.0\n",
       "1990         16.0        2.0\n",
       "1991         33.0        4.0\n",
       "1992         15.0        3.0\n",
       "1993          4.0        3.0\n",
       "1994          4.0        4.0\n",
       "1995          6.0        1.0\n",
       "1996          2.0        1.0\n",
       "1997          5.0        3.0\n",
       "1998         12.0        5.0\n",
       "1999          7.0        7.0\n",
       "2000          7.0        2.0\n",
       "2001         12.0        7.0\n",
       "2002         12.0        6.0\n",
       "2003         17.0        6.0\n",
       "2004         13.0        4.0\n",
       "2005         26.0       13.0\n",
       "2006         15.0        6.0\n",
       "2007         25.0       10.0\n",
       "2008         29.0       23.0\n",
       "2009         30.0       16.0\n",
       "2010         19.0        6.0\n",
       "2011         19.0       16.0\n",
       "2012         25.0       13.0\n",
       "2013         21.0        8.0"
      ]
     },
     "execution_count": 133,
     "metadata": {},
     "output_type": "execute_result"
    }
   ],
   "source": [
    "# Ambil data imigrasi malaysia dan Singapore\n",
    "df_mysg = df_fin.loc[[\"Malaysia\",\"Singapore\"]].T\n",
    "\n",
    "df_mysg"
   ]
  },
  {
   "cell_type": "code",
   "execution_count": 134,
   "metadata": {},
   "outputs": [
    {
     "data": {
      "text/plain": [
       "<AxesSubplot:xlabel='Malaysia', ylabel='Singapore'>"
      ]
     },
     "execution_count": 134,
     "metadata": {},
     "output_type": "execute_result"
    },
    {
     "data": {
      "image/png": "[encoded data removed]",
      "text/plain": [
       "<Figure size 432x288 with 1 Axes>"
      ]
     },
     "metadata": {
      "needs_background": "light"
     },
     "output_type": "display_data"
    }
   ],
   "source": [
    "df_mysg.plot(kind=\"scatter\",x=\"Malaysia\",y=\"Singapore\")"
   ]
  },
  {
   "cell_type": "code",
   "execution_count": 135,
   "metadata": {},
   "outputs": [
    {
     "data": {
      "text/plain": [
       "0.671224192896839"
      ]
     },
     "execution_count": 135,
     "metadata": {},
     "output_type": "execute_result"
    }
   ],
   "source": [
    "# Correlation\n",
    "\n",
    "df_mysg[\"Malaysia\"].corr(df_mysg[\"Singapore\"])"
   ]
  },
  {
   "cell_type": "markdown",
   "metadata": {},
   "source": [
    "Artinya terdapat 67,122% data jumlah imigrasi Malaysia mempengaruhi jumlah imigrasi Singapore ke Finlandia."
   ]
  },
  {
   "cell_type": "code",
   "execution_count": 136,
   "metadata": {},
   "outputs": [
    {
     "data": {
      "text/html": [
       "<div>\n",
       "<style scoped>\n",
       "    .dataframe tbody tr th:only-of-type {\n",
       "        vertical-align: middle;\n",
       "    }\n",
       "\n",
       "    .dataframe tbody tr th {\n",
       "        vertical-align: top;\n",
       "    }\n",
       "\n",
       "    .dataframe thead th {\n",
       "        text-align: right;\n",
       "    }\n",
       "</style>\n",
       "<table border=\"1\" class=\"dataframe\">\n",
       "  <thead>\n",
       "    <tr style=\"text-align: right;\">\n",
       "      <th>Country</th>\n",
       "      <th>China</th>\n",
       "      <th>India</th>\n",
       "    </tr>\n",
       "  </thead>\n",
       "  <tbody>\n",
       "    <tr>\n",
       "      <th>1980</th>\n",
       "      <td>NaN</td>\n",
       "      <td>NaN</td>\n",
       "    </tr>\n",
       "    <tr>\n",
       "      <th>1981</th>\n",
       "      <td>NaN</td>\n",
       "      <td>NaN</td>\n",
       "    </tr>\n",
       "    <tr>\n",
       "      <th>1982</th>\n",
       "      <td>NaN</td>\n",
       "      <td>NaN</td>\n",
       "    </tr>\n",
       "    <tr>\n",
       "      <th>1983</th>\n",
       "      <td>0.0</td>\n",
       "      <td>37.0</td>\n",
       "    </tr>\n",
       "    <tr>\n",
       "      <th>1984</th>\n",
       "      <td>6.0</td>\n",
       "      <td>33.0</td>\n",
       "    </tr>\n",
       "    <tr>\n",
       "      <th>1985</th>\n",
       "      <td>1.0</td>\n",
       "      <td>33.0</td>\n",
       "    </tr>\n",
       "    <tr>\n",
       "      <th>1986</th>\n",
       "      <td>8.0</td>\n",
       "      <td>28.0</td>\n",
       "    </tr>\n",
       "    <tr>\n",
       "      <th>1987</th>\n",
       "      <td>12.0</td>\n",
       "      <td>34.0</td>\n",
       "    </tr>\n",
       "    <tr>\n",
       "      <th>1988</th>\n",
       "      <td>36.0</td>\n",
       "      <td>40.0</td>\n",
       "    </tr>\n",
       "    <tr>\n",
       "      <th>1989</th>\n",
       "      <td>98.0</td>\n",
       "      <td>70.0</td>\n",
       "    </tr>\n",
       "    <tr>\n",
       "      <th>1990</th>\n",
       "      <td>156.0</td>\n",
       "      <td>80.0</td>\n",
       "    </tr>\n",
       "    <tr>\n",
       "      <th>1991</th>\n",
       "      <td>322.0</td>\n",
       "      <td>86.0</td>\n",
       "    </tr>\n",
       "    <tr>\n",
       "      <th>1992</th>\n",
       "      <td>227.0</td>\n",
       "      <td>53.0</td>\n",
       "    </tr>\n",
       "    <tr>\n",
       "      <th>1993</th>\n",
       "      <td>246.0</td>\n",
       "      <td>44.0</td>\n",
       "    </tr>\n",
       "    <tr>\n",
       "      <th>1994</th>\n",
       "      <td>199.0</td>\n",
       "      <td>58.0</td>\n",
       "    </tr>\n",
       "    <tr>\n",
       "      <th>1995</th>\n",
       "      <td>138.0</td>\n",
       "      <td>57.0</td>\n",
       "    </tr>\n",
       "    <tr>\n",
       "      <th>1996</th>\n",
       "      <td>137.0</td>\n",
       "      <td>50.0</td>\n",
       "    </tr>\n",
       "    <tr>\n",
       "      <th>1997</th>\n",
       "      <td>146.0</td>\n",
       "      <td>57.0</td>\n",
       "    </tr>\n",
       "    <tr>\n",
       "      <th>1998</th>\n",
       "      <td>NaN</td>\n",
       "      <td>92.0</td>\n",
       "    </tr>\n",
       "    <tr>\n",
       "      <th>1999</th>\n",
       "      <td>NaN</td>\n",
       "      <td>112.0</td>\n",
       "    </tr>\n",
       "    <tr>\n",
       "      <th>2000</th>\n",
       "      <td>238.0</td>\n",
       "      <td>158.0</td>\n",
       "    </tr>\n",
       "    <tr>\n",
       "      <th>2001</th>\n",
       "      <td>331.0</td>\n",
       "      <td>186.0</td>\n",
       "    </tr>\n",
       "    <tr>\n",
       "      <th>2002</th>\n",
       "      <td>356.0</td>\n",
       "      <td>188.0</td>\n",
       "    </tr>\n",
       "    <tr>\n",
       "      <th>2003</th>\n",
       "      <td>423.0</td>\n",
       "      <td>195.0</td>\n",
       "    </tr>\n",
       "    <tr>\n",
       "      <th>2004</th>\n",
       "      <td>435.0</td>\n",
       "      <td>315.0</td>\n",
       "    </tr>\n",
       "    <tr>\n",
       "      <th>2005</th>\n",
       "      <td>596.0</td>\n",
       "      <td>381.0</td>\n",
       "    </tr>\n",
       "    <tr>\n",
       "      <th>2006</th>\n",
       "      <td>512.0</td>\n",
       "      <td>504.0</td>\n",
       "    </tr>\n",
       "    <tr>\n",
       "      <th>2007</th>\n",
       "      <td>727.0</td>\n",
       "      <td>534.0</td>\n",
       "    </tr>\n",
       "    <tr>\n",
       "      <th>2008</th>\n",
       "      <td>963.0</td>\n",
       "      <td>623.0</td>\n",
       "    </tr>\n",
       "    <tr>\n",
       "      <th>2009</th>\n",
       "      <td>771.0</td>\n",
       "      <td>612.0</td>\n",
       "    </tr>\n",
       "    <tr>\n",
       "      <th>2010</th>\n",
       "      <td>566.0</td>\n",
       "      <td>486.0</td>\n",
       "    </tr>\n",
       "    <tr>\n",
       "      <th>2011</th>\n",
       "      <td>763.0</td>\n",
       "      <td>573.0</td>\n",
       "    </tr>\n",
       "    <tr>\n",
       "      <th>2012</th>\n",
       "      <td>748.0</td>\n",
       "      <td>572.0</td>\n",
       "    </tr>\n",
       "    <tr>\n",
       "      <th>2013</th>\n",
       "      <td>807.0</td>\n",
       "      <td>676.0</td>\n",
       "    </tr>\n",
       "  </tbody>\n",
       "</table>\n",
       "</div>"
      ],
      "text/plain": [
       "Country  China  India\n",
       "1980       NaN    NaN\n",
       "1981       NaN    NaN\n",
       "1982       NaN    NaN\n",
       "1983       0.0   37.0\n",
       "1984       6.0   33.0\n",
       "1985       1.0   33.0\n",
       "1986       8.0   28.0\n",
       "1987      12.0   34.0\n",
       "1988      36.0   40.0\n",
       "1989      98.0   70.0\n",
       "1990     156.0   80.0\n",
       "1991     322.0   86.0\n",
       "1992     227.0   53.0\n",
       "1993     246.0   44.0\n",
       "1994     199.0   58.0\n",
       "1995     138.0   57.0\n",
       "1996     137.0   50.0\n",
       "1997     146.0   57.0\n",
       "1998       NaN   92.0\n",
       "1999       NaN  112.0\n",
       "2000     238.0  158.0\n",
       "2001     331.0  186.0\n",
       "2002     356.0  188.0\n",
       "2003     423.0  195.0\n",
       "2004     435.0  315.0\n",
       "2005     596.0  381.0\n",
       "2006     512.0  504.0\n",
       "2007     727.0  534.0\n",
       "2008     963.0  623.0\n",
       "2009     771.0  612.0\n",
       "2010     566.0  486.0\n",
       "2011     763.0  573.0\n",
       "2012     748.0  572.0\n",
       "2013     807.0  676.0"
      ]
     },
     "execution_count": 136,
     "metadata": {},
     "output_type": "execute_result"
    }
   ],
   "source": [
    "df_cin = df_fin.loc[[\"China\",\"India\"]].T\n",
    "df_cin\n"
   ]
  },
  {
   "cell_type": "code",
   "execution_count": 137,
   "metadata": {},
   "outputs": [
    {
     "data": {
      "text/plain": [
       "<AxesSubplot:xlabel='China', ylabel='India'>"
      ]
     },
     "execution_count": 137,
     "metadata": {},
     "output_type": "execute_result"
    },
    {
     "data": {
      "image/png": "[encoded data removed]",
      "text/plain": [
       "<Figure size 432x288 with 1 Axes>"
      ]
     },
     "metadata": {
      "needs_background": "light"
     },
     "output_type": "display_data"
    }
   ],
   "source": [
    "df_cin.plot(kind=\"scatter\",x=\"China\",y=\"India\")"
   ]
  },
  {
   "cell_type": "code",
   "execution_count": 138,
   "metadata": {},
   "outputs": [
    {
     "data": {
      "text/plain": [
       "0.956824058508364"
      ]
     },
     "execution_count": 138,
     "metadata": {},
     "output_type": "execute_result"
    }
   ],
   "source": [
    "# Correlation\n",
    "\n",
    "df_cin[\"China\"].corr(df_cin[\"India\"])"
   ]
  },
  {
   "cell_type": "code",
   "execution_count": 139,
   "metadata": {},
   "outputs": [
    {
     "name": "stdout",
     "output_type": "stream",
     "text": [
      "Terdapat  95.6824058508364 % data jumlah imigrasi China mempengaruhi jumlah imigrasi India ke Finlandia\n"
     ]
    }
   ],
   "source": [
    "print(\"Terdapat \", df_cin[\"China\"].corr(df_cin[\"India\"]) * 100,\"% data jumlah imigrasi China mempengaruhi jumlah imigrasi India ke Finlandia\")"
   ]
  },
  {
   "cell_type": "code",
   "execution_count": 140,
   "metadata": {},
   "outputs": [
    {
     "name": "stdout",
     "output_type": "stream",
     "text": [
      "array contains infs or NaNs\n"
     ]
    }
   ],
   "source": [
    "# dengan scipy\n",
    "try :\n",
    "    scipy.stats.pearsonr(df_cin[\"China\"],df_cin[\"India\"])\n",
    "except :\n",
    "    print(\"array contains infs or NaNs\")"
   ]
  },
  {
   "cell_type": "code",
   "execution_count": 144,
   "metadata": {},
   "outputs": [
    {
     "data": {
      "text/html": [
       "<div>\n",
       "<style scoped>\n",
       "    .dataframe tbody tr th:only-of-type {\n",
       "        vertical-align: middle;\n",
       "    }\n",
       "\n",
       "    .dataframe tbody tr th {\n",
       "        vertical-align: top;\n",
       "    }\n",
       "\n",
       "    .dataframe thead th {\n",
       "        text-align: right;\n",
       "    }\n",
       "</style>\n",
       "<table border=\"1\" class=\"dataframe\">\n",
       "  <thead>\n",
       "    <tr style=\"text-align: right;\">\n",
       "      <th>Country</th>\n",
       "      <th>China</th>\n",
       "      <th>India</th>\n",
       "    </tr>\n",
       "  </thead>\n",
       "  <tbody>\n",
       "    <tr>\n",
       "      <th>1980</th>\n",
       "      <td>0.0</td>\n",
       "      <td>0.0</td>\n",
       "    </tr>\n",
       "    <tr>\n",
       "      <th>1981</th>\n",
       "      <td>0.0</td>\n",
       "      <td>0.0</td>\n",
       "    </tr>\n",
       "    <tr>\n",
       "      <th>1982</th>\n",
       "      <td>0.0</td>\n",
       "      <td>0.0</td>\n",
       "    </tr>\n",
       "    <tr>\n",
       "      <th>1983</th>\n",
       "      <td>0.0</td>\n",
       "      <td>37.0</td>\n",
       "    </tr>\n",
       "    <tr>\n",
       "      <th>1984</th>\n",
       "      <td>6.0</td>\n",
       "      <td>33.0</td>\n",
       "    </tr>\n",
       "    <tr>\n",
       "      <th>1985</th>\n",
       "      <td>1.0</td>\n",
       "      <td>33.0</td>\n",
       "    </tr>\n",
       "    <tr>\n",
       "      <th>1986</th>\n",
       "      <td>8.0</td>\n",
       "      <td>28.0</td>\n",
       "    </tr>\n",
       "    <tr>\n",
       "      <th>1987</th>\n",
       "      <td>12.0</td>\n",
       "      <td>34.0</td>\n",
       "    </tr>\n",
       "    <tr>\n",
       "      <th>1988</th>\n",
       "      <td>36.0</td>\n",
       "      <td>40.0</td>\n",
       "    </tr>\n",
       "    <tr>\n",
       "      <th>1989</th>\n",
       "      <td>98.0</td>\n",
       "      <td>70.0</td>\n",
       "    </tr>\n",
       "    <tr>\n",
       "      <th>1990</th>\n",
       "      <td>156.0</td>\n",
       "      <td>80.0</td>\n",
       "    </tr>\n",
       "    <tr>\n",
       "      <th>1991</th>\n",
       "      <td>322.0</td>\n",
       "      <td>86.0</td>\n",
       "    </tr>\n",
       "    <tr>\n",
       "      <th>1992</th>\n",
       "      <td>227.0</td>\n",
       "      <td>53.0</td>\n",
       "    </tr>\n",
       "    <tr>\n",
       "      <th>1993</th>\n",
       "      <td>246.0</td>\n",
       "      <td>44.0</td>\n",
       "    </tr>\n",
       "    <tr>\n",
       "      <th>1994</th>\n",
       "      <td>199.0</td>\n",
       "      <td>58.0</td>\n",
       "    </tr>\n",
       "    <tr>\n",
       "      <th>1995</th>\n",
       "      <td>138.0</td>\n",
       "      <td>57.0</td>\n",
       "    </tr>\n",
       "    <tr>\n",
       "      <th>1996</th>\n",
       "      <td>137.0</td>\n",
       "      <td>50.0</td>\n",
       "    </tr>\n",
       "    <tr>\n",
       "      <th>1997</th>\n",
       "      <td>146.0</td>\n",
       "      <td>57.0</td>\n",
       "    </tr>\n",
       "    <tr>\n",
       "      <th>1998</th>\n",
       "      <td>0.0</td>\n",
       "      <td>92.0</td>\n",
       "    </tr>\n",
       "    <tr>\n",
       "      <th>1999</th>\n",
       "      <td>0.0</td>\n",
       "      <td>112.0</td>\n",
       "    </tr>\n",
       "    <tr>\n",
       "      <th>2000</th>\n",
       "      <td>238.0</td>\n",
       "      <td>158.0</td>\n",
       "    </tr>\n",
       "    <tr>\n",
       "      <th>2001</th>\n",
       "      <td>331.0</td>\n",
       "      <td>186.0</td>\n",
       "    </tr>\n",
       "    <tr>\n",
       "      <th>2002</th>\n",
       "      <td>356.0</td>\n",
       "      <td>188.0</td>\n",
       "    </tr>\n",
       "    <tr>\n",
       "      <th>2003</th>\n",
       "      <td>423.0</td>\n",
       "      <td>195.0</td>\n",
       "    </tr>\n",
       "    <tr>\n",
       "      <th>2004</th>\n",
       "      <td>435.0</td>\n",
       "      <td>315.0</td>\n",
       "    </tr>\n",
       "    <tr>\n",
       "      <th>2005</th>\n",
       "      <td>596.0</td>\n",
       "      <td>381.0</td>\n",
       "    </tr>\n",
       "    <tr>\n",
       "      <th>2006</th>\n",
       "      <td>512.0</td>\n",
       "      <td>504.0</td>\n",
       "    </tr>\n",
       "    <tr>\n",
       "      <th>2007</th>\n",
       "      <td>727.0</td>\n",
       "      <td>534.0</td>\n",
       "    </tr>\n",
       "    <tr>\n",
       "      <th>2008</th>\n",
       "      <td>963.0</td>\n",
       "      <td>623.0</td>\n",
       "    </tr>\n",
       "    <tr>\n",
       "      <th>2009</th>\n",
       "      <td>771.0</td>\n",
       "      <td>612.0</td>\n",
       "    </tr>\n",
       "    <tr>\n",
       "      <th>2010</th>\n",
       "      <td>566.0</td>\n",
       "      <td>486.0</td>\n",
       "    </tr>\n",
       "    <tr>\n",
       "      <th>2011</th>\n",
       "      <td>763.0</td>\n",
       "      <td>573.0</td>\n",
       "    </tr>\n",
       "    <tr>\n",
       "      <th>2012</th>\n",
       "      <td>748.0</td>\n",
       "      <td>572.0</td>\n",
       "    </tr>\n",
       "    <tr>\n",
       "      <th>2013</th>\n",
       "      <td>807.0</td>\n",
       "      <td>676.0</td>\n",
       "    </tr>\n",
       "  </tbody>\n",
       "</table>\n",
       "</div>"
      ],
      "text/plain": [
       "Country  China  India\n",
       "1980       0.0    0.0\n",
       "1981       0.0    0.0\n",
       "1982       0.0    0.0\n",
       "1983       0.0   37.0\n",
       "1984       6.0   33.0\n",
       "1985       1.0   33.0\n",
       "1986       8.0   28.0\n",
       "1987      12.0   34.0\n",
       "1988      36.0   40.0\n",
       "1989      98.0   70.0\n",
       "1990     156.0   80.0\n",
       "1991     322.0   86.0\n",
       "1992     227.0   53.0\n",
       "1993     246.0   44.0\n",
       "1994     199.0   58.0\n",
       "1995     138.0   57.0\n",
       "1996     137.0   50.0\n",
       "1997     146.0   57.0\n",
       "1998       0.0   92.0\n",
       "1999       0.0  112.0\n",
       "2000     238.0  158.0\n",
       "2001     331.0  186.0\n",
       "2002     356.0  188.0\n",
       "2003     423.0  195.0\n",
       "2004     435.0  315.0\n",
       "2005     596.0  381.0\n",
       "2006     512.0  504.0\n",
       "2007     727.0  534.0\n",
       "2008     963.0  623.0\n",
       "2009     771.0  612.0\n",
       "2010     566.0  486.0\n",
       "2011     763.0  573.0\n",
       "2012     748.0  572.0\n",
       "2013     807.0  676.0"
      ]
     },
     "execution_count": 144,
     "metadata": {},
     "output_type": "execute_result"
    }
   ],
   "source": [
    "# hilangkan na\n",
    "df_cin = df_cin.fillna(0)\n",
    "df_cin"
   ]
  },
  {
   "cell_type": "code",
   "execution_count": 149,
   "metadata": {},
   "outputs": [
    {
     "name": "stdout",
     "output_type": "stream",
     "text": [
      "r =  0.9521118199083237\n",
      "p_value =  4.985458335615363e-18\n"
     ]
    }
   ],
   "source": [
    "# dengan scipy\n",
    "try :\n",
    "    r,p = scipy.stats.pearsonr(df_cin[\"China\"],df_cin[\"India\"])\n",
    "    print(\"r = \",r)\n",
    "    print(\"p_value = \",p)\n",
    "except :\n",
    "    print(\"array contains infs or NaNs\")"
   ]
  },
  {
   "cell_type": "code",
   "execution_count": null,
   "metadata": {},
   "outputs": [],
   "source": []
  }
 ],
 "metadata": {
  "kernelspec": {
   "display_name": "Python 3.9.12 ('base')",
   "language": "python",
   "name": "python3"
  },
  "language_info": {
   "codemirror_mode": {
    "name": "ipython",
    "version": 3
   },
   "file_extension": ".py",
   "mimetype": "text/x-python",
   "name": "python",
   "nbconvert_exporter": "python",
   "pygments_lexer": "ipython3",
   "version": "3.9.12"
  },
  "orig_nbformat": 4,
  "vscode": {
   "interpreter": {
    "hash": "a0f36b9e2c626c3bc6e5521c57e2ca0ee9ab77c6ceade95dc5e9793f3b0d83ae"
   }
  }
 },
 "nbformat": 4,
 "nbformat_minor": 2
}
